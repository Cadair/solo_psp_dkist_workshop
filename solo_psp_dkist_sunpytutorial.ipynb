{
 "cells": [
  {
   "cell_type": "markdown",
   "id": "34779ce3-9be6-4cbe-9df0-f06a6f1986f9",
   "metadata": {},
   "source": [
    "# Joint Solar Orbiter, Parker Solar Probe, and DKIST Meeting\n",
    "### April 9 2024\n",
    "Given by Laura A. Hayes\n",
    "\n",
    "\n",
    "![title](./images/sunpy_logo.png)\n",
    "\n",
    "\n",
    "This notebook is to demonstrate how you can work with different data within the SunPy ecosystem, with a specific focus on Solar Orbiter observations.\n",
    "\n",
    "It serves to demonstate how the SunPy Ecosystem allows you to easily work different types of data using the same set of tools.\n",
    "\n",
    "Here, I'll demonstrate how you can search for and download Solar Orbiter data. We'll also then look at an event analysis workflow for a large solar eruptive event that occured on Sept 5 2022 by both PSP and Solar Orbiter.\n",
    "\n",
    "Some useful links:\n",
    "\n",
    "* An introduction to SunPy https://docs.sunpy.org/en/stable/tutorial/index.html\n",
    "* Solar Orbiter Archive https://soar.esac.esa.int/soar/\n",
    "* Summary of SOOPs that have been run: https://www.cosmos.esa.int/web/solar-orbiter/soops-summary\n",
    "* Inventory plots of data on SOAR: https://www.cosmos.esa.int/web/soar/inventory-plots\n",
    "* DKIST Python Tools https://docs.dkist.nso.edu/projects/python-tools/en/stable/\n",
    "* STIX data center: https://datacenter.stix.i4ds.net/stix\n",
    "* EPD data loader: https://github.com/jgieseler/solo-epd-loader\n"
   ]
  },
  {
   "cell_type": "code",
   "execution_count": null,
   "id": "6355affc-ae2d-4231-a1ba-9d77b54c2773",
   "metadata": {},
   "outputs": [],
   "source": [
    "import numpy as np\n",
    "import matplotlib.pyplot as plt\n",
    "\n",
    "import astropy.units as u\n",
    "from astropy.visualization import ImageNormalize, AsinhStretch\n",
    "from astropy.coordinates import SkyCoord\n",
    "from astropy.time import Time\n",
    "from astropy.visualization import quantity_support\n",
    "quantity_support()\n",
    "\n",
    "from sunpy.net import Fido, attrs\n",
    "import sunpy.map\n",
    "from sunpy import timeseries as ts\n",
    "from sunpy.coordinates import get_earth, get_horizons_coord\n",
    "import sunpy.visualization.drawing\n",
    "from sunkit_instruments import iris\n",
    "\n",
    "import sunraster.instr.spice\n",
    "import dkist\n",
    "\n",
    "import sunpy_soar\n",
    "import dkist.net\n",
    "\n",
    "import pathlib\n",
    "import warnings\n",
    "\n",
    "import astropy.io.fits\n",
    "import astropy.wcs\n",
    "from astropy.nddata import Cutout2D\n",
    "\n",
    "from sunpy.coordinates import propagate_with_solar_surface"
   ]
  },
  {
   "cell_type": "markdown",
   "id": "d7899362-a159-4b1f-b309-a02ede66656d",
   "metadata": {},
   "source": [
    "# 1. Searching for and downloading data\n",
    "\n",
    "## Overview of sunpy's Fido Unified Downloader\n",
    "Fido is sunpy's interface for searching and downloading solar physics data.\n",
    "It offers a unified interface for searching and fetching data irrespective of the underlying client or webservice from where the data is obtained.\n",
    "You can also search and accesses multiple instruments and all available data providers in a single query.\n",
    "It supplies a single, easy, consistent and extendable way to get most forms of solar physics data the community need.\n",
    "\n",
    "For more information about Fido and how to use it check out the documentation on our website: https://docs.sunpy.org/en/stable/tutorial/acquiring_data/index.html\n",
    "\n",
    "Fido offers access to data available through:\n",
    "\n",
    "* VSO\n",
    "* JSOC (through drms)\n",
    "* Individual data providers from web accessible sources (http, ftp, etc)\n",
    "* CDAWeb\n",
    "* HEK\n",
    "* HELIO\n",
    "  \n",
    "As described here Fido provides access to many sources of data through different clients, these clients can be defined inside sunpy or in other packages \n",
    "\n",
    "For example:\n",
    "\n",
    "- DKIST data can be accessed using Fido through [DKIST User Tools](https://docs.dkist.nso.edu/projects/python-tools/en/latest/tutorial/2_search_and_asdf_download.html).\n",
    "- Solar Orbiter data can be access from the [Solar Orbiter Archive](https://soar.esac.esa.int/soar/) from [sunpy_soar](https://docs.sunpy.org/projects/soar/)\n"
   ]
  },
  {
   "cell_type": "markdown",
   "id": "83d93a15-24fb-48fd-ac72-e0fbeec6e403",
   "metadata": {},
   "source": [
    "#### Importantly, Solar Orbiter data can be accessed through the client defined in the `sunpy_soar` affiliated package. \n",
    "The SOAR client is registered once we install `sunpy_soar` above. Without installing it, it wont be registered within Fido.\n",
    "\n",
    "Lets first inspect the clients that are available through Fido:"
   ]
  },
  {
   "cell_type": "code",
   "execution_count": null,
   "id": "bf104d1b-ecc3-405f-b33d-5d7ca7437c96",
   "metadata": {},
   "outputs": [],
   "source": [
    "Fido"
   ]
  },
  {
   "cell_type": "code",
   "execution_count": null,
   "id": "a1208822-68d7-4218-8db5-5ae6f0dd5cf7",
   "metadata": {},
   "outputs": [],
   "source": [
    "attrs.Provider"
   ]
  },
  {
   "cell_type": "markdown",
   "id": "24e2430a-9bc8-40bd-914b-562eab0586b9",
   "metadata": {},
   "source": [
    "There are also Solar Orbiter specific attributes that are registered when we import `sunpy_soar`, such as `a.soar.Product`, and `a.soar.SOOP` (Solar Orbiter Observing Plan).\n",
    "\n",
    "What this allows you to do is to construct a query based on these attributes, for example, a specific data product during a specific SOOP etc."
   ]
  },
  {
   "cell_type": "code",
   "execution_count": null,
   "id": "9523fe99-3e2c-44bb-8a55-0cdab28ddf1d",
   "metadata": {},
   "outputs": [],
   "source": [
    "attrs.soar.Product"
   ]
  },
  {
   "cell_type": "code",
   "execution_count": null,
   "id": "f0432fac-9321-48f8-b2a7-7680154278db",
   "metadata": {},
   "outputs": [],
   "source": [
    "attrs.soar.SOOP"
   ]
  },
  {
   "cell_type": "markdown",
   "id": "fe7a6c45-6d75-4029-a695-654422fe69e3",
   "metadata": {},
   "source": [
    "## How to construct a query\n",
    "\n",
    "To search for data with Fido, you need to specify attributes to search with. These are usually a timerange (`a.Time`), and an instrument (`a.Instrument`). But you can also add lots of different attributes to make your query more specific. It should also be noted that Fido will return all possible results given the conditions of your query, so for example, if two data providers host the same data, it will return two results (for example the VSO provides the EUI data as well as the SOAR). You can also specifiy the provider you want to search for in your query."
   ]
  },
  {
   "cell_type": "code",
   "execution_count": null,
   "id": "86418823-97d8-40f9-b1ed-4ab14d885fa1",
   "metadata": {},
   "outputs": [],
   "source": [
    "res_eui = Fido.search(attrs.Time(\"2022-03-25\", \"2022-03-26\"), \n",
    "                      attrs.Instrument(\"EUI\"), \n",
    "                      attrs.Provider.soar)"
   ]
  },
  {
   "cell_type": "markdown",
   "id": "54e27a01-42c7-4461-a8c2-f145214bfc6c",
   "metadata": {},
   "source": [
    "this returns an [`UnifiedResponse`](https://docs.sunpy.org/en/stable/generated/api/sunpy.net.fido_factory.UnifiedResponse.html#sunpy.net.fido_factory.UnifiedResponse) object (like a table) containing all the search results that match the search attributes. We haven't downloaded anything here, we've just found the results of the query. Lets inspect the table and see whats there:"
   ]
  },
  {
   "cell_type": "code",
   "execution_count": null,
   "id": "23ce4906-4657-4cf2-ac68-7de8b9163f92",
   "metadata": {},
   "outputs": [],
   "source": [
    "res_eui"
   ]
  },
  {
   "cell_type": "markdown",
   "id": "617c6a04-134c-4fa2-9501-06660849c693",
   "metadata": {},
   "source": [
    "We can also construct a query to search for SWA data (i.e. in-situ data). We can also specific the level data that we want, here Level 2 data. \n",
    "\n",
    "(Note that there's no SOOP name associated in the returned table - thats because the in-situ data products do not have this tied to their data)"
   ]
  },
  {
   "cell_type": "code",
   "execution_count": null,
   "id": "a4e36178-b046-435f-bed3-866ce86cf982",
   "metadata": {},
   "outputs": [],
   "source": [
    "res_swa = Fido.search(attrs.Time(\"2022-03-25\", \"2022-03-26\"), \n",
    "                      attrs.Instrument(\"SWA\"), \n",
    "                      attrs.Provider.soar)"
   ]
  },
  {
   "cell_type": "markdown",
   "id": "f4541f8f-6eab-4018-9ee3-1b91023aa9be",
   "metadata": {},
   "source": [
    "Say for example, instead we're just interested in data from a particular SOOP. Checkout the [SOOP summary page](https://www.cosmos.esa.int/web/solar-orbiter/soops-summary) for more details.\n",
    "Lets search for the coronal dynamics SOOP, which focuses on observing structures in the outer corona and linking them to the heliosphere observed in-situ."
   ]
  },
  {
   "cell_type": "code",
   "execution_count": null,
   "id": "17dda45d-ca9f-4e97-9684-40a9a21043c8",
   "metadata": {},
   "outputs": [],
   "source": [
    "res_soop = Fido.search(attrs.Time(\"2022-03-25\", \"2022-03-25 01:00\"), \n",
    "                       attrs.soar.SOOP.l_full_hres_hcad_coronal_dynamics, \n",
    "                       attrs.Provider.soar)"
   ]
  },
  {
   "cell_type": "code",
   "execution_count": null,
   "id": "ef2e4cc8-363f-42f7-84bb-e992421bf435",
   "metadata": {},
   "outputs": [],
   "source": [
    "res_soop"
   ]
  },
  {
   "cell_type": "markdown",
   "id": "ad8e0914-81bd-44e5-ae28-7123d06a23cb",
   "metadata": {},
   "source": [
    "## Downloading the data\n",
    "\n",
    "### To download the data files you've found from your query, you can use `Fido.fetch`\n",
    "\n",
    "Now that we have located the files were interested in via a `Fido.search`, we can download them via `Fido.fetch`.\n",
    "You pass your query results from `Fido.search` to the `.fetch`. You can also specifiy the path for which to save them locally. Here lets just save them in our current working directory. If you do not pass anything it will save them location set in the sunpy config file.\n",
    "\n",
    "\n",
    "Lets make a smaller search for some EUI data over some timerange"
   ]
  },
  {
   "cell_type": "code",
   "execution_count": null,
   "id": "6b6ba230-1c86-4279-a2f4-2f459913e105",
   "metadata": {},
   "outputs": [],
   "source": [
    "res_eui_soop = Fido.search(attrs.Time(\"2022-03-25\", \"2022-03-25 01:00\"), \n",
    "                           attrs.soar.SOOP.l_full_hres_hcad_coronal_dynamics, \n",
    "                           attrs.Level(2), attrs.Provider.soar, attrs.Instrument(\"EUI\"))"
   ]
  },
  {
   "cell_type": "code",
   "execution_count": null,
   "id": "f4f70de6-6645-4558-b6d5-6c9a01896e65",
   "metadata": {},
   "outputs": [],
   "source": [
    "Fido.fetch(res_eui_soop, path=\"./data\")"
   ]
  },
  {
   "cell_type": "markdown",
   "id": "2f482795-06e2-4895-854d-0991e92f09e3",
   "metadata": {},
   "source": [
    "We can pass these files directly to a sunpy map that reads the information in the metadata and constructs a `sunpy.map.Map`"
   ]
  },
  {
   "cell_type": "code",
   "execution_count": null,
   "id": "24e89f64-cc3c-46c3-b72d-816691ab394c",
   "metadata": {},
   "outputs": [],
   "source": [
    "eui_map = sunpy.map.Map('data/solo_L2_eui-fsi304-image_20220325T000815304_V02.fits')"
   ]
  },
  {
   "cell_type": "code",
   "execution_count": null,
   "id": "b304a65f-29b5-4e68-a33d-784c4b2ca7ba",
   "metadata": {},
   "outputs": [],
   "source": [
    "eui_map.plot()"
   ]
  },
  {
   "cell_type": "markdown",
   "id": "e941596f-5fa4-4fc7-834c-0f044797e5ed",
   "metadata": {},
   "source": [
    "Similarly we can search for in-situ data - say here Solar Orbiter Magnetometer data"
   ]
  },
  {
   "cell_type": "code",
   "execution_count": null,
   "id": "6380fb98-5a28-4a6f-8e87-af26d71261c8",
   "metadata": {},
   "outputs": [],
   "source": [
    "res_mag = Fido.search(attrs.Time(\"2022-03-25\", \"2022-03-25 23:00\"),\n",
    "                      attrs.Instrument.mag, \n",
    "                      attrs.soar.Product('mag-rtn-normal-1-minute'), \n",
    "                      attrs.Level(2))"
   ]
  },
  {
   "cell_type": "code",
   "execution_count": null,
   "id": "0889eb37-7315-493d-939f-4b45d5b6b869",
   "metadata": {},
   "outputs": [],
   "source": [
    "Fido.fetch(res_mag, path=\"./data\")"
   ]
  },
  {
   "cell_type": "markdown",
   "id": "c64681df-3515-47a9-9eb4-44d0bbde3d52",
   "metadata": {},
   "source": [
    "We can then pass these files directly into sunpy.timeseries.TimeSeries and plot"
   ]
  },
  {
   "cell_type": "code",
   "execution_count": null,
   "id": "098a73cd-725a-4a25-833c-a3bb037b4516",
   "metadata": {},
   "outputs": [],
   "source": [
    "solo_mag_ts = ts.TimeSeries('data/solo_L2_mag-rtn-normal-1-minute_20220325_V01.cdf')\n",
    "solo_mag_ts.plot(columns=[\"B_RTN_0\", \"B_RTN_1\", \"B_RTN_2\"])"
   ]
  },
  {
   "cell_type": "markdown",
   "id": "5a2a9141-01d7-4eef-9ba6-904b2e243c18",
   "metadata": {},
   "source": [
    "# Accessing data from the CDAWeb with sunpy - which is very helpful for in-situ data\n",
    "\n",
    "There is also a CDAWeb client within sunpy. CDAWeb data can be accessed when the `cdaweb.Dataset` attribute is provided to the search.\n",
    "\n",
    "The data available from the SOAR is also available from the CDAWeb. You may be used to working with this (especially if you mainly work with in-situ observations), so lets go through how the data can also be accessed this way. This is handy, as you can also access many other in-situ measurements from this too."
   ]
  },
  {
   "cell_type": "code",
   "execution_count": null,
   "id": "717e47bc-a875-451e-96c3-42acb293c977",
   "metadata": {},
   "outputs": [],
   "source": [
    "# attrs.cdaweb.Dataset"
   ]
  },
  {
   "cell_type": "markdown",
   "id": "eba2876e-0fde-41c9-a95d-dff4ae2a0a5c",
   "metadata": {},
   "source": [
    "So for example, we can also query for data (e.g. Solar Orbiter Magnetometer data) from the CDAWeb"
   ]
  },
  {
   "cell_type": "code",
   "execution_count": null,
   "id": "2c5c570a-2d1c-49da-a66c-f6d87848dc5a",
   "metadata": {},
   "outputs": [],
   "source": [
    "res_cdaw = Fido.search(attrs.Time(\"2022-03-25\", \"2022-03-26\"), \n",
    "                       attrs.cdaweb.Dataset('SOLO_L2_MAG-RTN-NORMAL-1-MINUTE'))"
   ]
  },
  {
   "cell_type": "code",
   "execution_count": null,
   "id": "388cdb6c-2484-44b2-b9cc-9a27519a0ac3",
   "metadata": {},
   "outputs": [],
   "source": [
    "res_cdaw"
   ]
  },
  {
   "cell_type": "code",
   "execution_count": null,
   "id": "62fed93f-9a44-42cf-9179-fb509e04cc79",
   "metadata": {},
   "outputs": [],
   "source": [
    "Fido.fetch(res_cdaw, path=\"./data\")"
   ]
  },
  {
   "cell_type": "code",
   "execution_count": null,
   "id": "a59a5db3-5e5f-4e5c-9d84-e4ee27154bc1",
   "metadata": {},
   "outputs": [],
   "source": [
    "solo_mag_ts = ts.TimeSeries(\"data/solo_l2_mag-rtn-normal-1-minute_20220325_v01.cdf\")\n",
    "solo_mag_ts.plot(columns=[\"B_RTN_0\", \"B_RTN_1\", \"B_RTN_2\"])"
   ]
  },
  {
   "cell_type": "markdown",
   "id": "6ab45f95-90b3-4862-9a5c-1fb16e2577a3",
   "metadata": {},
   "source": [
    "# Example workflow for analysing data - Solar Orbiter RSW 7 Oct 2022\n",
    "\n",
    "Here, we'll do an example workflow of using functionality within the SunPy ecosystem to analyse some data from remote sensing window (RSW) 5 of Solar Orbiter during the long term active region tracking `R_SMALL_MRES_MCAD_AR-Long-Term` SOOP. We'll use Fido to query sunpy soar, and also search for coordinated data from Earth and DKIST.\n",
    "\n",
    "This example workflow will use:\n",
    "- sunpy core\n",
    "- sunraster\n",
    "- dkist\n"
   ]
  },
  {
   "cell_type": "markdown",
   "id": "8012eb52-2a37-40d1-aae2-e72513f1e7bf",
   "metadata": {},
   "source": [
    "### Lets plot the locations of the spacecraft\n",
    "\n",
    "Lets first plot the locations of the spacecraft at the time of interest - which we'll seta t 2022-10-24 19:00"
   ]
  },
  {
   "cell_type": "code",
   "execution_count": null,
   "id": "1b501e87-458c-4848-b355-b0fe731525b5",
   "metadata": {},
   "outputs": [],
   "source": [
    "fig = plt.figure(figsize=(5, 5))\n",
    "ax = plt.subplot(projection='polar')\n",
    "\n",
    "# Plot the Sun\n",
    "ax.plot(0, 0, marker='o', markersize=20, label='Sun', color='yellow')\n",
    "\n",
    "# Plot the satellite locations\n",
    "obstime = \"2022-10-24 19:00\"\n",
    "for body_name in ['Earth', 'Solar Orbiter', \"PSP\"]:\n",
    "    if body_name == 'Earth':\n",
    "        body = get_earth(obstime)\n",
    "    else:\n",
    "        body = get_horizons_coord(body_name, time=obstime)\n",
    "    p, = ax.plot(body.lon.to('rad'), body.radius.to(u.AU), 'o', label=body_name)\n",
    "    ax.plot([body.lon.to_value('rad'), 0], [body.radius.to_value(u.AU), 0], ls='--', color=p.get_color())\n",
    "\n",
    "ax.set_theta_zero_location(\"S\")\n",
    "ax.set_rlabel_position(90)\n",
    "ax.set_rlim(0, 1.3)\n",
    "ax.legend()\n"
   ]
  },
  {
   "cell_type": "code",
   "execution_count": null,
   "id": "f98318f6-c81e-4fe0-a931-8b84c427569d",
   "metadata": {},
   "outputs": [],
   "source": [
    "time_range = attrs.Time(\"2022-10-24T18:55\", \"2022-10-24T19:35\")"
   ]
  },
  {
   "cell_type": "code",
   "execution_count": null,
   "id": "07a68f99-9ce6-48e1-89e8-f4551c660403",
   "metadata": {},
   "outputs": [],
   "source": [
    "Fido.search(time_range, attrs.Instrument(\"PHI\"))"
   ]
  },
  {
   "cell_type": "markdown",
   "id": "fb164c53-650e-4a7a-b3be-e03d32af5d6b",
   "metadata": {},
   "source": [
    "## search for Solar Orbiter data"
   ]
  },
  {
   "cell_type": "code",
   "execution_count": null,
   "id": "4eaf6dab-714f-44e5-8087-d4686545f760",
   "metadata": {},
   "outputs": [],
   "source": [
    "Fido.search(\n",
    "    time_range,\n",
    "    attrs.soar.Product('EUI-HRIEUV174-IMAGE') | attrs.soar.Product('EUI-FSI174-IMAGE') |\n",
    "    attrs.soar.Product('SPICE-N-RAS') | attrs.soar.Product(\"PHI-HRT-BLOS\"),\n",
    "    attrs.Level(2)\n",
    ")"
   ]
  },
  {
   "cell_type": "markdown",
   "id": "d17529ff-0b0a-4b3a-91f1-9153d7362599",
   "metadata": {},
   "source": [
    "## DKIST\n",
    "\n",
    "Lets search for DKIST VISP data, as we've imported dkist.net above, the dkist client was registered"
   ]
  },
  {
   "cell_type": "code",
   "execution_count": null,
   "id": "2b1809e5-2b29-4ef0-b507-b9896c8078b1",
   "metadata": {},
   "outputs": [],
   "source": [
    "Fido.search(\n",
    "    time_range,\n",
    "    attrs.Instrument('VISP')\n",
    ")"
   ]
  },
  {
   "cell_type": "markdown",
   "id": "c2f363d0-3c2a-4545-b866-9f570e16ba5d",
   "metadata": {},
   "source": [
    "## Combine queries all together!"
   ]
  },
  {
   "cell_type": "code",
   "execution_count": null,
   "id": "da972144-355e-483d-b22c-fe128fc400c7",
   "metadata": {},
   "outputs": [],
   "source": [
    "aia_query = attrs.Instrument.aia & attrs.Wavelength(171*u.Angstrom) & attrs.Sample(10*u.minute)\n",
    "\n",
    "solo_query = (attrs.soar.Product('EUI-HRIEUV174-IMAGE') | attrs.soar.Product('EUI-FSI174-IMAGE') |\n",
    "              attrs.soar.Product('SPICE-N-RAS') | attrs.soar.Product(\"PHI-HRT-BLOS\")) & attrs.Level(2)\n",
    "\n",
    "dkist_query = attrs.Instrument(\"VISP\")"
   ]
  },
  {
   "cell_type": "code",
   "execution_count": null,
   "id": "2ab4d658-1610-40e2-844f-660a6cb79550",
   "metadata": {},
   "outputs": [],
   "source": [
    "query = Fido.search(time_range, aia_query | solo_query | dkist_query)"
   ]
  },
  {
   "cell_type": "code",
   "execution_count": null,
   "id": "44ac33bd-f75b-4c5d-9cc9-9303ca5a60a5",
   "metadata": {},
   "outputs": [],
   "source": [
    "files = Fido.fetch(query, path='data/{instrument}')"
   ]
  },
  {
   "cell_type": "code",
   "execution_count": null,
   "id": "7d4f4907-6e58-4d5d-bd06-0dae6ef7dff3",
   "metadata": {},
   "outputs": [],
   "source": [
    "query2 = Fido.search(time_range, attrs.Instrument.iris, attrs.Wavelength(1330*u.angstrom))"
   ]
  },
  {
   "cell_type": "code",
   "execution_count": null,
   "id": "538741ac-f73f-4515-823c-6936db22b5fc",
   "metadata": {},
   "outputs": [],
   "source": [
    "query2"
   ]
  },
  {
   "cell_type": "code",
   "execution_count": null,
   "id": "9fdca59d-9143-4462-9fe3-3ff3353dadec",
   "metadata": {},
   "outputs": [],
   "source": [
    "files = Fido.fetch(query2, path='data/{instrument}')"
   ]
  },
  {
   "cell_type": "markdown",
   "id": "cb61e541-de69-4a66-8730-5dab5be8a7f2",
   "metadata": {},
   "source": [
    "## Visulise the fields of view"
   ]
  },
  {
   "cell_type": "code",
   "execution_count": null,
   "id": "4cc3d666-3eb0-48b8-b938-1f20a183391c",
   "metadata": {},
   "outputs": [],
   "source": [
    "aia_map = sunpy.map.Map(\"./data/AIA/aia_lev1_171a_2022_10_24t19_15_09_35z_image_lev1.fits\")"
   ]
  },
  {
   "cell_type": "code",
   "execution_count": null,
   "id": "a05db2b0-cfd1-46d7-ba6b-d85e843054f1",
   "metadata": {},
   "outputs": [],
   "source": [
    "fsi_map = sunpy.map.Map(\"./data/EUI/solo_L2_eui-fsi174-image_20221024T191050177_V01.fits\")"
   ]
  },
  {
   "cell_type": "code",
   "execution_count": null,
   "id": "d74c7415-2fe2-4321-9fdd-43b754c4352c",
   "metadata": {},
   "outputs": [],
   "source": [
    "hri_map = sunpy.map.Map(\"./data/EUI/solo_L2_eui-hrieuv174-image_20221024T191500172_V01.fits\")"
   ]
  },
  {
   "cell_type": "code",
   "execution_count": null,
   "id": "f2ccd5fd-79c6-414f-8318-32243f54e8b0",
   "metadata": {},
   "outputs": [],
   "source": [
    "phi_map = sunpy.map.Map(\"./data/PHI/solo_L2_phi-hrt-blos_20221024T191503_V01.fits\")"
   ]
  },
  {
   "cell_type": "code",
   "execution_count": null,
   "id": "3aeaab5f-f351-4cef-91e6-5324d6256d75",
   "metadata": {},
   "outputs": [],
   "source": [
    "raster_spice = sunraster.instr.spice.read_spice_l2_fits('./data/SPICE/solo_L2_spice-n-ras_20221024T191303_V05_150995395-059.fits')\n",
    "spice_window = raster_spice['N IV 765 - SH - Comp 8 ... Ne VIII 770 - LH - Comp 8 (Merged)']"
   ]
  },
  {
   "cell_type": "code",
   "execution_count": null,
   "id": "93476f4d-96ad-4593-8166-f0f0b4c107a0",
   "metadata": {},
   "outputs": [],
   "source": [
    "iris_map = iris.SJI_to_sequence(\"./data/IRIS/iris_l2_20221024_190447_3643101203_sji_1330_t000_fits.gz\")"
   ]
  },
  {
   "cell_type": "code",
   "execution_count": null,
   "id": "7ea90c00-f7ed-43ec-a53e-6ed27609c9aa",
   "metadata": {},
   "outputs": [],
   "source": [
    "visp = dkist.load_dataset(\"./data/VISP/VISP_L1_20221024T185745_BKEWK.asdf\")"
   ]
  },
  {
   "cell_type": "markdown",
   "id": "23b0364c-957d-479d-ba73-4aa55b96da88",
   "metadata": {},
   "source": [
    "## Lets inspect the map from Solar Orbiter EUI/FSI"
   ]
  },
  {
   "cell_type": "code",
   "execution_count": null,
   "id": "25524b92-b4eb-4136-abd1-515ed3b8675d",
   "metadata": {},
   "outputs": [],
   "source": [
    "fsi_map.plot()"
   ]
  },
  {
   "cell_type": "code",
   "execution_count": null,
   "id": "29a9fcef-d9de-43c7-af8e-6071fc3cf46c",
   "metadata": {},
   "outputs": [],
   "source": [
    "fsi_map_zoom = fsi_map.submap(SkyCoord(-3000,-3000, unit='arcsec', frame=fsi_map.coordinate_frame),\n",
    "                              top_right=SkyCoord(3000, 3000, unit='arcsec', frame=fsi_map.coordinate_frame))"
   ]
  },
  {
   "cell_type": "code",
   "execution_count": null,
   "id": "45e034c0-bcc9-450c-b2ec-714d47ddfa01",
   "metadata": {},
   "outputs": [],
   "source": [
    "fsi_map_zoom.plot()"
   ]
  },
  {
   "cell_type": "code",
   "execution_count": null,
   "id": "e4ec24b1-99e6-4cd1-ad9f-a7ae8512a850",
   "metadata": {},
   "outputs": [],
   "source": [
    "fsi_map_zoom_rotate = fsi_map_zoom.rotate(missing=fsi_map_zoom.data.min())"
   ]
  },
  {
   "cell_type": "code",
   "execution_count": null,
   "id": "a7502f1d-d2cf-4c72-b13c-c0d162b723bd",
   "metadata": {},
   "outputs": [],
   "source": [
    "fsi_map_zoom_rotate.plot()"
   ]
  },
  {
   "cell_type": "code",
   "execution_count": null,
   "id": "944d4ce4-9ffe-46df-9f7a-de112083b954",
   "metadata": {},
   "outputs": [],
   "source": [
    "fig = plt.figure(figsize=(8,8))\n",
    "ax = fig.add_subplot(projection=fsi_map_zoom)\n",
    "fsi_map_zoom.plot(axes=ax)\n",
    "fsi_map_zoom.draw_quadrangle(\n",
    "    [0,0]*u.pix,\n",
    "    top_right=u.Quantity(hri_map.dimensions),\n",
    "    label='HRI', edgecolor='C0', lw=2,\n",
    "    transform=ax.get_transform(hri_map.wcs),\n",
    ")"
   ]
  },
  {
   "cell_type": "code",
   "execution_count": null,
   "id": "f548aa38-e4f7-4033-baf5-6cf988fd64a4",
   "metadata": {},
   "outputs": [],
   "source": [
    "visp_frame = visp.wcs.output_frame.frames[1].reference_frame\n",
    "visp_space = visp[0, :, 500, :]\n",
    "visp_corners = visp_space.wcs.pixel_to_world([0, visp_space.data.shape[1]-1],[0, visp_space.data.shape[0]-1])[0]\n"
   ]
  },
  {
   "cell_type": "code",
   "execution_count": null,
   "id": "bc76f468-da09-4c93-a97f-fcb7a700f562",
   "metadata": {},
   "outputs": [],
   "source": [
    "spice_map = sunpy.map.Map(spice_window[0,51,:,:].data, spice_window[0,51,:,:].meta)"
   ]
  },
  {
   "cell_type": "code",
   "execution_count": null,
   "id": "a11f287c-2aff-4168-8aa4-4b2a37917929",
   "metadata": {},
   "outputs": [],
   "source": [
    "fig = plt.figure(figsize=(8,8))\n",
    "ax = fig.add_subplot(projection=fsi_map_zoom)\n",
    "fsi_map_zoom.plot(axes=ax)\n",
    "\n",
    "\n",
    "fsi_map_zoom.draw_quadrangle(\n",
    "    [0,0]*u.pix,\n",
    "    top_right=u.Quantity(hri_map.dimensions),\n",
    "    label=\"HRI\",\n",
    "    lw=2, edgecolor=\"C0\",\n",
    "    transform=ax.get_transform(hri_map.wcs),\n",
    ")\n",
    "\n",
    "fsi_map_zoom.draw_quadrangle(\n",
    "    [0,0]*u.pix,\n",
    "    top_right=u.Quantity(phi_map.dimensions),\n",
    "    label=\"PHI\",\n",
    "    lw=2, edgecolor='C1',\n",
    "    transform=ax.get_transform(phi_map.wcs),\n",
    ")\n",
    "\n",
    "fsi_map_zoom.draw_quadrangle(\n",
    "    [0,0]*u.pix,\n",
    "    top_right=u.Quantity(spice_map.dimensions),\n",
    "    label=\"SPICE\",\n",
    "    lw=2, edgecolor='C2',\n",
    "    transform=ax.get_transform(spice_map.wcs),\n",
    ")\n",
    "\n",
    "fsi_map_zoom.draw_quadrangle(\n",
    "    [0,0]*u.pix,\n",
    "    top_right=u.Quantity(iris_map[0].dimensions),\n",
    "    label=\"IRIS\",\n",
    "    lw=2, edgecolor='C6',\n",
    "    transform=ax.get_transform(iris_map[0].wcs),\n",
    ")\n",
    "\n",
    "fsi_map_zoom.draw_quadrangle(\n",
    "    visp_corners,\n",
    "    label=\"VISP\",\n",
    "    edgecolor='white',\n",
    "    lw=1,\n",
    "    transform=ax.get_transform(visp_frame)\n",
    ")\n",
    "\n",
    "aia_map.draw_limb(color='r', lw=2, label=\"Limb from AIA\")\n",
    "plt.legend()\n"
   ]
  },
  {
   "cell_type": "code",
   "execution_count": null,
   "id": "782bae0d-8b36-4b1a-8950-d48df3c7b18f",
   "metadata": {},
   "outputs": [],
   "source": [
    "fig = plt.figure(figsize=(8,8))\n",
    "ax = fig.add_subplot(projection=aia_map)\n",
    "aia_map.plot(axes=ax)\n",
    "\n",
    "\n",
    "aia_map.draw_quadrangle(\n",
    "    [0,0]*u.pix,\n",
    "    top_right=u.Quantity(hri_map.dimensions),\n",
    "    label=\"HRI\",\n",
    "    lw=2, edgecolor=\"C0\",\n",
    "    transform=ax.get_transform(hri_map.wcs),\n",
    ")\n",
    "\n",
    "aia_map.draw_quadrangle(\n",
    "    [0,0]*u.pix,\n",
    "    top_right=u.Quantity(phi_map.dimensions),\n",
    "    label=\"PHI\",\n",
    "    lw=2, edgecolor='C1',\n",
    "    transform=ax.get_transform(phi_map.wcs),\n",
    ")\n",
    "\n",
    "aia_map.draw_quadrangle(\n",
    "    [0,0]*u.pix,\n",
    "    top_right=u.Quantity(spice_map.dimensions),\n",
    "    label=\"SPICE\",\n",
    "    lw=2, edgecolor='C2',\n",
    "    transform=ax.get_transform(spice_map.wcs),\n",
    ")\n",
    "\n",
    "aia_map.draw_quadrangle(\n",
    "    [0,0]*u.pix,\n",
    "    top_right=u.Quantity(iris_map[0].dimensions),\n",
    "    label=\"IRIS\",\n",
    "    lw=2, edgecolor='C6',\n",
    "    transform=ax.get_transform(iris_map[0].wcs),\n",
    ")\n",
    "\n",
    "aia_map.draw_quadrangle(\n",
    "    visp_corners,\n",
    "    label=\"VISP\",\n",
    "    edgecolor='white',\n",
    "    lw=1,\n",
    "    transform=ax.get_transform(visp_frame)\n",
    ")\n",
    "\n",
    "fsi_map_zoom.draw_limb(color='r', lw=2, label=\"Limb from FSI\")\n",
    "plt.legend()\n"
   ]
  },
  {
   "cell_type": "code",
   "execution_count": null,
   "id": "1357b31c-22ec-4625-acc8-cb7700a912a2",
   "metadata": {},
   "outputs": [],
   "source": [
    "center = SkyCoord(Tx=930*u.arcsec, Ty=630*u.arcsec, frame=hri_map.coordinate_frame)\n",
    "width = 350*u.arcsec\n",
    "height = 250*u.arcsec\n",
    "loop_fov = center.spherical_offsets_by(width/[-2, 2], height/[-2, 2])"
   ]
  },
  {
   "cell_type": "code",
   "execution_count": null,
   "id": "b5867943-4c55-4720-ad4e-e340251d0764",
   "metadata": {},
   "outputs": [],
   "source": [
    "fig = plt.figure(figsize=(15, 5))\n",
    "ax1 = fig.add_subplot(1, 3, 1, projection=hri_map)\n",
    "ax2 = fig.add_subplot(1, 3, 2,projection=phi_map)\n",
    "ax3 = fig.add_subplot(1, 3, 3,projection=spice_map)\n",
    "hri_map.plot(axes=ax1)\n",
    "hri_map.draw_quadrangle(loop_fov, axes=ax1)\n",
    "phi_map.plot(axes=ax2, vmin=-500, vmax=500)\n",
    "hri_map.draw_quadrangle(loop_fov, axes=ax2)\n",
    "spice_map.plot(axes=ax3, aspect=\"auto\", cmap=\"viridis\")\n",
    "hri_map.draw_quadrangle(loop_fov, axes=ax3)"
   ]
  },
  {
   "cell_type": "code",
   "execution_count": null,
   "id": "dc8c2e12-d7c1-45a3-a6cd-ec4d9c7ae9d9",
   "metadata": {},
   "outputs": [],
   "source": [
    "# fig = plt.figure()\n",
    "# visp.plot(plot_axes=[None, None, 'x', None], fig=fig)\n",
    "# plt.show()"
   ]
  },
  {
   "cell_type": "code",
   "execution_count": null,
   "id": "fd03d5a1-d81a-4795-aaf4-d8ce73fa0db5",
   "metadata": {},
   "outputs": [],
   "source": []
  },
  {
   "cell_type": "markdown",
   "id": "7215b212-9056-4dca-80ad-aac74acc3283",
   "metadata": {},
   "source": [
    "## Example of reading cutout portions of the HRI data"
   ]
  },
  {
   "cell_type": "code",
   "execution_count": null,
   "id": "de1dc4fd-e477-434c-8d92-328b2a7941c3",
   "metadata": {},
   "outputs": [],
   "source": [
    "hri_maps = []\n",
    "for filename in sorted(pathlib.Path('./data/EUI/').glob('solo_L2_eui-hrieuv174-image_*.fits')):\n",
    "    with astropy.io.fits.open(filename) as hdul:\n",
    "        with warnings.catch_warnings():  # silence some astropy FITS warnings\n",
    "            warnings.simplefilter('ignore', astropy.wcs.FITSFixedWarning)\n",
    "            wcs = astropy.wcs.WCS(hdul[1].header)\n",
    "        with propagate_with_solar_surface():  # transform with solar rotation\n",
    "            cutout = Cutout2D(hdul[1].section,  # cutout from full-image\n",
    "                              position=center,\n",
    "                              size=(height, width),\n",
    "                              wcs=wcs)\n",
    "    hri_maps.append(sunpy.map.Map(cutout.data, cutout.wcs))  # create sunpy map"
   ]
  },
  {
   "cell_type": "code",
   "execution_count": null,
   "id": "17c8ee47-6ae8-4c1d-9846-1ad8e1403b81",
   "metadata": {},
   "outputs": [],
   "source": [
    "hri_maps = sunpy.map.Map(hri_maps, sequence=True)"
   ]
  },
  {
   "cell_type": "code",
   "execution_count": null,
   "id": "fadf4fec-4205-458a-9966-b500fd82be58",
   "metadata": {},
   "outputs": [],
   "source": [
    "ani = hri_maps.plot(cmap=hri_map.plot_settings['cmap'],\n",
    "                    norm=ImageNormalize(vmin=5e2, vmax=1.75e4,\n",
    "                                        stretch=hri_map.plot_settings['norm'].stretch))\n",
    "ani.save('eui-hri-loops.mp4', fps=15, dpi=300)"
   ]
  },
  {
   "cell_type": "code",
   "execution_count": null,
   "id": "38574b1c-4cc3-44c3-90ff-fd377699fc5d",
   "metadata": {},
   "outputs": [],
   "source": [
    "from IPython.display import HTML\n",
    "\n",
    "HTML(\"\"\"\n",
    "<div align=\"middle\">\n",
    "<video width=\"60%\" controls>\n",
    "      <source src=\"eui-hri-loops.mp4\" type=\"video/mp4\">\n",
    "</video>\n",
    "</div>\"\"\")"
   ]
  },
  {
   "cell_type": "code",
   "execution_count": null,
   "id": "25bd04d3-325f-4bb2-aaf4-e8c9d4329f94",
   "metadata": {},
   "outputs": [],
   "source": []
  },
  {
   "cell_type": "markdown",
   "id": "0c74ba64-e5c2-4992-b355-78581adf8f0b",
   "metadata": {},
   "source": [
    "## 3. Another date and event for an example combining PSP + Solar Orbiter in-situ data"
   ]
  },
  {
   "cell_type": "code",
   "execution_count": null,
   "id": "d09507d1-cfa7-4b2b-ac65-47315a3fd656",
   "metadata": {},
   "outputs": [],
   "source": [
    "timerange_sept = attrs.Time(\"2022-09-05 14:30\", \"2022-09-05 21:30\")"
   ]
  },
  {
   "cell_type": "code",
   "execution_count": null,
   "id": "a81649cd-ac5a-4c86-a8cc-73381c21fcb0",
   "metadata": {},
   "outputs": [],
   "source": [
    "eui_query = Fido.search(timerange_sept, \n",
    "                        attrs.soar.Product(\"eui-fsi174-image\") , \n",
    "                        attrs.Level(2))"
   ]
  },
  {
   "cell_type": "code",
   "execution_count": null,
   "id": "ba90632b-7afc-4b5e-819f-d48d3c90fafe",
   "metadata": {},
   "outputs": [],
   "source": [
    "Fido.fetch(eui_query, path=\"./data/{instrument}\")"
   ]
  },
  {
   "cell_type": "code",
   "execution_count": null,
   "id": "6def5cb0-1164-4a26-88b4-ff90135883a1",
   "metadata": {},
   "outputs": [],
   "source": [
    "tstart = timerange_sept.start\n",
    "solo_coord = get_horizons_coord(\"solo\", tstart)\n",
    "psp_coord =  get_horizons_coord(\"psp\", tstart)\n",
    "earth_coord =  get_earth(tstart)\n",
    "\n",
    "fig = plt.figure()\n",
    "ax = fig.add_subplot(projection=\"polar\")\n",
    "\n",
    "ax.scatter(psp_coord.lon.to('rad'), psp_coord.radius.to(u.AU),\n",
    "           label='PSP', lw=0.5)\n",
    "ax.scatter(solo_coord.lon.to('rad'), solo_coord.radius.to(u.AU),\n",
    "           label='Solar Orbiter', lw=0.5)\n",
    "ax.scatter(earth_coord.lon.to('rad'), earth_coord.radius.to(u.AU),\n",
    "           label='Earth', color='g')\n",
    "ax.plot(0, 0, marker='o', ms=10, color='yellow')\n",
    "\n",
    "\n",
    "# lets also get the positions over 4 days to see the perihelion of PSP\n",
    "# when plotted here, you can't see Solar Orbiter move too much (dot plotted is bigger than movement)\n",
    "psp_seq = get_horizons_coord(\"psp\", tstart+np.arange(-2, 2, 0.1)*u.day)\n",
    "solo_seq = get_horizons_coord(\"solo\", tstart + np.arange(-2, 2, 0.1)*u.day)\n",
    "for coord in [psp_seq, solo_seq]:\n",
    "    ax.plot(coord.lon.to('rad'), coord.radius.to(u.AU))\n",
    "\n",
    "ax.set_theta_zero_location(\"S\")\n",
    "ax.set_rlabel_position(90)\n",
    "ax.set_title(\"Spacecraft positions {:s}\".format(tstart.strftime(\"%Y-%m-%d\")))\n",
    "ax.legend(loc=\"upper left\")"
   ]
  },
  {
   "cell_type": "code",
   "execution_count": null,
   "id": "a5362620-4c86-4feb-acfb-25af5f2f8801",
   "metadata": {},
   "outputs": [],
   "source": [
    "eui_map_174 = sunpy.map.Map(\"./data/EUI/solo_L2_eui-fsi174-image_20220905T161055282_V01.fits\")\n"
   ]
  },
  {
   "cell_type": "code",
   "execution_count": null,
   "id": "132fa5c9-faee-4bf7-aec3-7b395d8ad26a",
   "metadata": {},
   "outputs": [],
   "source": [
    "eui_map_174 = eui_map_174.rotate()"
   ]
  },
  {
   "cell_type": "code",
   "execution_count": null,
   "id": "dccf68e3-b6f5-47a6-8250-3b086235e36a",
   "metadata": {},
   "outputs": [],
   "source": [
    "eui_map_174_zoom = eui_map_174.submap(SkyCoord(-1800, -1800, unit='arcsec', frame=eui_map_174.coordinate_frame),\n",
    "                              top_right=SkyCoord(1800, 1800, unit='arcsec', frame=eui_map_174.coordinate_frame))"
   ]
  },
  {
   "cell_type": "code",
   "execution_count": null,
   "id": "0ff028c1-2029-48b7-a474-839ddc1e6754",
   "metadata": {},
   "outputs": [],
   "source": [
    "eui_map_174_zoom.plot()"
   ]
  },
  {
   "cell_type": "code",
   "execution_count": null,
   "id": "35b68dd3-a287-47d2-bda9-caa1b448a486",
   "metadata": {},
   "outputs": [],
   "source": [
    "fig = plt.figure()\n",
    "ax = fig.add_subplot(projection=eui_map_174_zoom)\n",
    "eui_map_174_zoom.plot()\n",
    "eui_map_174_zoom.draw_quadrangle(SkyCoord(400*u.arcsec, -750*u.arcsec, frame=eui_map_174_zoom.coordinate_frame),\n",
    "                                 top_right=SkyCoord(900*u.arcsec, -400*u.arcsec, frame=eui_map_174_zoom.coordinate_frame), edgecolor='r')"
   ]
  },
  {
   "cell_type": "markdown",
   "id": "df17edb1-ffcf-4b03-a48e-96ba71674d24",
   "metadata": {},
   "source": [
    "# Lets see what this looks like from PSP point of view\n",
    "\n",
    "We can use the coordinates framework with sunpy to reproject images from one viewpoint to another.\n",
    "To learn more about this, check out our documentation, and also [this](https://docs.sunpy.org/en/stable/generated/gallery/map_transformations/reprojection_different_observers.html#sphx-glr-generated-gallery-map-transformations-reprojection-different-observers-py) example in the example gallery."
   ]
  },
  {
   "cell_type": "code",
   "execution_count": null,
   "id": "69a307ea-8955-4958-a839-25928462968e",
   "metadata": {},
   "outputs": [],
   "source": [
    "ref_coord = SkyCoord(0*u.arcsec, 0*u.arcsec,\n",
    "                     frame='helioprojective', \n",
    "                     obstime=eui_map_174_zoom.date, \n",
    "                     observer=get_horizons_coord(\"psp\", eui_map_174_zoom.date))\n",
    "\n",
    "# Create a FITS WCS header for the reference coordinate and frame\n",
    "header = sunpy.map.make_fitswcs_header((3000, 3000),\n",
    "                                        ref_coord,\n",
    "                                        scale=[16, 16]*u.arcsec/u.pix,\n",
    "                                      )"
   ]
  },
  {
   "cell_type": "code",
   "execution_count": null,
   "id": "b7ac52ff-d503-477c-9bad-94e15971a3a6",
   "metadata": {},
   "outputs": [],
   "source": [
    "eui_psp_view = eui_map_174_zoom.reproject_to(header)"
   ]
  },
  {
   "cell_type": "code",
   "execution_count": null,
   "id": "4efbf2db-2d0f-4b95-b9bf-b9da6af9523d",
   "metadata": {},
   "outputs": [],
   "source": [
    "eui_psp_view.plot()\n",
    "eui_psp_view.draw_limb(color='k')\n",
    "eui_map_174_zoom.draw_limb(color='r')\n",
    "eui_map_174_zoom.draw_quadrangle(SkyCoord(400*u.arcsec, -750*u.arcsec, frame=eui_map_174_zoom.coordinate_frame),\n",
    "                                 top_right=SkyCoord(900*u.arcsec, -400*u.arcsec, frame=eui_map_174_zoom.coordinate_frame), edgecolor='r')"
   ]
  },
  {
   "cell_type": "code",
   "execution_count": null,
   "id": "07a88805-54a1-4819-b11b-84910cf78472",
   "metadata": {},
   "outputs": [],
   "source": [
    "time_range_insitu = attrs.Time(\"2022-09-04\", \"2022-09-08\")\n",
    "res_solo_mag = Fido.search(time_range_insitu, \n",
    "                           attrs.cdaweb.Dataset('SOLO_L2_MAG-RTN-NORMAL-1-MINUTE'))\n",
    "f_solomag = Fido.fetch(res_solo_mag, path=\"./\")\n",
    "solo_mag = sunpy.timeseries.TimeSeries(f_solomag, concatenate=True)"
   ]
  },
  {
   "cell_type": "code",
   "execution_count": null,
   "id": "c852cd83-0e07-469d-aee4-bf286cf96355",
   "metadata": {},
   "outputs": [],
   "source": [
    "fig = plt.figure()\n",
    "solo_mag.plot(columns=[\"B_RTN_0\", \"B_RTN_1\", \"B_RTN_2\"])\n"
   ]
  },
  {
   "cell_type": "code",
   "execution_count": null,
   "id": "6d295c65-e755-42d7-a5a3-7b66bf813d2a",
   "metadata": {},
   "outputs": [],
   "source": [
    "res_solo_swa = Fido.search(time_range_insitu, \n",
    "                           attrs.cdaweb.Dataset.solo_l2_swa_pas_grnd_mom)\n",
    "f_soloswa = Fido.fetch(res_solo_swa, path=\"./\")\n",
    "solo_swa_pas = sunpy.timeseries.TimeSeries(f_soloswa, concatenate=True)"
   ]
  },
  {
   "cell_type": "code",
   "execution_count": null,
   "id": "07091b72-305e-4a7e-8477-cab9c2dbc18c",
   "metadata": {},
   "outputs": [],
   "source": [
    "fig = plt.figure()\n",
    "solo_swa_pas.plot(columns=[\"N\"])"
   ]
  },
  {
   "cell_type": "code",
   "execution_count": null,
   "id": "202435dd-f9d5-4b10-b934-a96d01d92830",
   "metadata": {},
   "outputs": [],
   "source": [
    "fig = plt.figure()\n",
    "solo_swa_pas.plot(columns=[\"T\"])"
   ]
  },
  {
   "cell_type": "markdown",
   "id": "a925252d-fec1-49e9-bab3-4caa047a0af8",
   "metadata": {},
   "source": [
    "## Lets also look for some PSP FIELDS/MAG data"
   ]
  },
  {
   "cell_type": "code",
   "execution_count": null,
   "id": "0c2c6855-e06e-4315-8570-7d0a1716a42f",
   "metadata": {},
   "outputs": [],
   "source": [
    "result_psp_mag = Fido.search(time_range_insitu, \n",
    "                             attrs.cdaweb.Dataset.psp_fld_l2_mag_rtn_1min)\n",
    "f_mag_psp = Fido.fetch(result_psp_mag, path=\"./\")\n",
    "\n",
    "psp_mag = sunpy.timeseries.TimeSeries(f_mag_psp, concatenate=True)"
   ]
  },
  {
   "cell_type": "code",
   "execution_count": null,
   "id": "e10c78c4-05e4-451b-b85a-939a551a3eaf",
   "metadata": {},
   "outputs": [],
   "source": [
    "clean_psp = psp_mag._data[psp_mag._data[\"psp_fld_l2_quality_flags\"].isnull()]\n",
    "psp_event = sunpy.timeseries.TimeSeries(clean_psp, psp_mag.meta, psp_mag.units)\n",
    "fig = plt.figure()\n",
    "psp_event.plot(columns=['psp_fld_l2_mag_RTN_1min_0', \n",
    "                        'psp_fld_l2_mag_RTN_1min_1',\n",
    "                        'psp_fld_l2_mag_RTN_1min_2'])\n"
   ]
  },
  {
   "cell_type": "code",
   "execution_count": null,
   "id": "6d73d0a0-8f45-4fdb-91e5-ffd211961898",
   "metadata": {},
   "outputs": [],
   "source": [
    "fig, ax = plt.subplots(5, figsize=(8, 10), sharex=True)\n",
    "\n",
    "psp_event.plot(columns=['psp_fld_l2_mag_RTN_1min_0', \n",
    "                        'psp_fld_l2_mag_RTN_1min_1',\n",
    "                        'psp_fld_l2_mag_RTN_1min_2'], \n",
    "              axes=ax[0])\n",
    "solo_mag.plot(columns=['B_RTN_0', 'B_RTN_1', 'B_RTN_2'], axes=ax[1])\n",
    "solo_swa_pas.plot(columns=['T'], axes=ax[2])\n",
    "solo_swa_pas.plot(columns=['N'], axes=ax[3])\n",
    "solo_swa_pas.plot(columns=['V_RTN_0', 'V_RTN_1', 'V_RTN_2'], axes=ax[4])\n",
    "ax[4].set_xlabel(\"Time\")\n",
    "\n",
    "for aa in ax:\n",
    "    aa.legend(loc=\"lower left\")\n",
    "    # aa.axvline(flare_time.datetime, color='r')\n",
    "\n",
    "ax[0].text(0.02, 0.90, \"a. PSP FIELDS/MAG\", transform=ax[0].transAxes)\n",
    "ax[1].text(0.02, 0.90, \"b. Solar Orbiter/MAG\", transform=ax[1].transAxes)\n",
    "ax[2].text(0.02, 0.90, \"c. Solar Orbiter/SWA-PSA\", transform=ax[2].transAxes)\n",
    "ax[3].text(0.02, 0.90, \"d. Solar Orbiter/SWA-PSA\", transform=ax[3].transAxes)\n",
    "ax[4].text(0.02, 0.90, \"e. Solar Orbiter/SWA-PSA\", transform=ax[4].transAxes)\n",
    "\n",
    "plt.tight_layout()"
   ]
  },
  {
   "cell_type": "markdown",
   "id": "2092c091-ff49-4ad7-9d27-70c150785d1d",
   "metadata": {},
   "source": [
    "# 4. Computions using SPICE kernals now supported since sunpy 5.1"
   ]
  },
  {
   "cell_type": "code",
   "execution_count": null,
   "id": "1a757bb1-1018-4cf0-baa0-9dcab91bd964",
   "metadata": {},
   "outputs": [],
   "source": [
    "from sunpy.data import cache\n",
    "from sunpy.coordinates import spice, frames"
   ]
  },
  {
   "cell_type": "code",
   "execution_count": null,
   "id": "cbc6a193-bfde-4d2b-862f-43808b208ba4",
   "metadata": {},
   "outputs": [],
   "source": [
    "solo_kernal_urls = [\n",
    "    \"spk/de421.bsp\",\n",
    "    \"spk/solo_ANC_soc-orbit-stp_20200210-20301120_280_V1_00288_V01.bsp\",\n",
    "]\n",
    "solo_kernal_urls = [f\"http://spiftp.esac.esa.int/data/SPICE/SOLAR-ORBITER/kernels/{url}\"\n",
    "               for url in solo_kernal_urls]\n",
    "\n",
    "psp_kernals = [\"https://spdf.gsfc.nasa.gov/pub/data/psp/ephemeris/spice/Long_Term_Predicted_Ephemeris/spp_nom_20180812_20250831_v039_RO6.bsp\"]\n",
    "\n",
    "kernals = solo_kernal_urls + psp_kernals\n",
    "\n",
    "kernel_files = [cache.download(url) for url in kernals]\n",
    "spice.initialize(kernel_files)"
   ]
  },
  {
   "cell_type": "code",
   "execution_count": null,
   "id": "41a669a5-b571-4269-8d5f-7ee7291b8a66",
   "metadata": {},
   "outputs": [],
   "source": [
    "obstime = Time(\"2020-03-01\") + np.arange(0, 1767, 1)*u.day\n",
    "solo_spacecraft = spice.get_body('Solar Orbiter', obstime)\n",
    "psp_spacecraft = spice.get_body('SOLAR PROBE PLUS', obstime)\n",
    "\n",
    "solo_spacecraft_hgs = solo_spacecraft.heliographic_stonyhurst\n",
    "psp_spacecraft_hgs = psp_spacecraft.heliographic_stonyhurst"
   ]
  },
  {
   "cell_type": "code",
   "execution_count": null,
   "id": "c130af6f-657b-4b8c-a60d-1ce8c2853948",
   "metadata": {},
   "outputs": [],
   "source": [
    "fig = plt.figure(figsize=(8, 8))\n",
    "ax = fig.add_subplot(projection='polar')\n",
    "im = ax.scatter(solo_spacecraft_hgs.lon.to(u.rad), solo_spacecraft_hgs.radius.to(u.au), s=2, label=\"Solar Orbiter\")\n",
    "im2 = ax.scatter(psp_spacecraft_hgs.lon.to(u.rad), psp_spacecraft_hgs.radius.to(u.au), s=2, label=\"Parker Solar Probe\")\n",
    "ax.set_theta_zero_location(\"S\")\n",
    "plt.legend()\n",
    "plt.show()\n"
   ]
  },
  {
   "cell_type": "code",
   "execution_count": null,
   "id": "b7a51344-db62-425b-9ff2-22c4928a622a",
   "metadata": {},
   "outputs": [],
   "source": [
    "fig, ax = plt.subplots(2, sharex=True, figsize=(12, 6))\n",
    "ax[0].plot(solo_spacecraft_hgs.obstime.datetime, solo_spacecraft_hgs.radius.to(u.AU), label=\"Solar Orbiter\")\n",
    "ax[0].plot(psp_spacecraft_hgs.obstime.datetime, psp_spacecraft_hgs.radius.to(u.AU), label=\"PSP\")\n",
    "\n",
    "ax[1].plot(solo_spacecraft_hgs.obstime.datetime, solo_spacecraft_hgs.lat.to(u.deg), label=\"Solar Orbiter\")\n",
    "ax[1].plot(psp_spacecraft_hgs.obstime.datetime, psp_spacecraft_hgs.lat.to(u.deg), label=\"PSP\")\n",
    "\n",
    "ax[0].set_xlim(psp_spacecraft_hgs.obstime.datetime[0], psp_spacecraft_hgs.obstime.datetime[-1])\n",
    "\n",
    "\n",
    "\n",
    "\n",
    "ax[0].set_xlim(psp_spacecraft_hgs.obstime.datetime[0], psp_spacecraft_hgs.obstime.datetime[-1])\n",
    "ax[0].set_ylabel(\"Distance to Sun (AU)\")\n",
    "ax[1].set_ylabel(\"Solar Latitude (deg)\")\n",
    "ax[1].set_xlabel(\"Time\")\n",
    "ax[0].legend()\n",
    "ax[1].legend()\n",
    "plt.tight_layout()\n",
    "plt.subplots_adjust(hspace=0.05)\n"
   ]
  },
  {
   "cell_type": "code",
   "execution_count": null,
   "id": "6f7cfa4a-13ad-4c4e-bcbf-0eb742cf0a2c",
   "metadata": {},
   "outputs": [],
   "source": []
  },
  {
   "cell_type": "code",
   "execution_count": null,
   "id": "720eb217-569b-4f3e-8b4d-fa658b8d447e",
   "metadata": {},
   "outputs": [],
   "source": []
  }
 ],
 "metadata": {
  "kernelspec": {
   "display_name": "Python 3 (ipykernel)",
   "language": "python",
   "name": "python3"
  },
  "language_info": {
   "codemirror_mode": {
    "name": "ipython",
    "version": 3
   },
   "file_extension": ".py",
   "mimetype": "text/x-python",
   "name": "python",
   "nbconvert_exporter": "python",
   "pygments_lexer": "ipython3",
   "version": "3.12.2"
  }
 },
 "nbformat": 4,
 "nbformat_minor": 5
}
